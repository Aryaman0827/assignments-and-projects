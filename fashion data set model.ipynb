{
  "nbformat": 4,
  "nbformat_minor": 0,
  "metadata": {
    "colab": {
      "name": "Copy of Project(for ShapeAI Boot camp ) .ipynb",
      "provenance": []
    },
    "kernelspec": {
      "name": "python3",
      "display_name": "Python 3"
    }
  },
  "cells": [
    {
      "cell_type": "code",
      "metadata": {
        "id": "K7adPzzfbNUq"
      },
      "source": [
        "import tensorflow as tf\n",
        "import tensorflow.keras.models \n",
        "import tensorflow.keras.layers \n",
        "import numpy as np\n",
        "import matplotlib.pyplot as plt\n",
        "\n"
      ],
      "execution_count": null,
      "outputs": []
    },
    {
      "cell_type": "code",
      "metadata": {
        "id": "tx7uG7HXigei",
        "colab": {
          "base_uri": "https://localhost:8080/"
        },
        "outputId": "563ec2c3-3489-4755-a4eb-16e9d5e87f50"
      },
      "source": [
        "fashion_mnist = tf.keras.datasets.fashion_mnist\n",
        "\n",
        "(train_images, train_labels), (test_images, test_labels) = fashion_mnist.load_data()"
      ],
      "execution_count": null,
      "outputs": [
        {
          "output_type": "stream",
          "text": [
            "Downloading data from https://storage.googleapis.com/tensorflow/tf-keras-datasets/train-labels-idx1-ubyte.gz\n",
            "32768/29515 [=================================] - 0s 0us/step\n",
            "Downloading data from https://storage.googleapis.com/tensorflow/tf-keras-datasets/train-images-idx3-ubyte.gz\n",
            "26427392/26421880 [==============================] - 0s 0us/step\n",
            "Downloading data from https://storage.googleapis.com/tensorflow/tf-keras-datasets/t10k-labels-idx1-ubyte.gz\n",
            "8192/5148 [===============================================] - 0s 0us/step\n",
            "Downloading data from https://storage.googleapis.com/tensorflow/tf-keras-datasets/t10k-images-idx3-ubyte.gz\n",
            "4423680/4422102 [==============================] - 0s 0us/step\n"
          ],
          "name": "stdout"
        }
      ]
    },
    {
      "cell_type": "code",
      "metadata": {
        "colab": {
          "base_uri": "https://localhost:8080/"
        },
        "id": "vRgILLrEjvou",
        "outputId": "a3a00ba9-3d5a-449e-99ec-60bdf2b55279"
      },
      "source": [
        "train_images[0].shape"
      ],
      "execution_count": null,
      "outputs": [
        {
          "output_type": "execute_result",
          "data": {
            "text/plain": [
              "(28, 28)"
            ]
          },
          "metadata": {
            "tags": []
          },
          "execution_count": 4
        }
      ]
    },
    {
      "cell_type": "code",
      "metadata": {
        "id": "aZ50lFthmMAb"
      },
      "source": [
        "train_images = train_images.reshape((train_images.shape[0], 28*28)).astype('float32')\n",
        "test_images = test_images.reshape((test_images.shape[0], 28*28)).astype('float32')"
      ],
      "execution_count": null,
      "outputs": []
    },
    {
      "cell_type": "code",
      "metadata": {
        "id": "J9rjbJCnmEmA"
      },
      "source": [
        "train_images = train_images / 255.0\n",
        "\n",
        "test_images = test_images / 255.0"
      ],
      "execution_count": null,
      "outputs": []
    },
    {
      "cell_type": "code",
      "metadata": {
        "colab": {
          "base_uri": "https://localhost:8080/"
        },
        "id": "B9_b3VuTrq7U",
        "outputId": "34ca3358-7def-413e-fc57-06ad436b203e"
      },
      "source": [
        "from keras.utils import np_utils\n",
        "\n",
        "train_labels = np_utils.to_categorical(train_labels)\n",
        "test_labels = np_utils.to_categorical(test_labels)\n",
        "num_classes = test_labels.shape[1]\n",
        "num_classes"
      ],
      "execution_count": null,
      "outputs": [
        {
          "output_type": "execute_result",
          "data": {
            "text/plain": [
              "10"
            ]
          },
          "metadata": {
            "tags": []
          },
          "execution_count": 7
        }
      ]
    },
    {
      "cell_type": "code",
      "metadata": {
        "id": "HhOuqgEEtRI2"
      },
      "source": [
        "from keras.models import Sequential\n",
        "from keras.layers import Dense\n",
        "from keras.layers import Dropout"
      ],
      "execution_count": null,
      "outputs": []
    },
    {
      "cell_type": "code",
      "metadata": {
        "id": "-ZGdiCSttqLS"
      },
      "source": [
        "model = Sequential()\n",
        "model.add(Dense(32, input_dim = 28*28, activation='relu'))\n",
        "model.add(Dense(64, activation='relu'))\n",
        "model.add(Dense(10, activation='softmax'))\n",
        "\n"
      ],
      "execution_count": null,
      "outputs": []
    },
    {
      "cell_type": "code",
      "metadata": {
        "colab": {
          "base_uri": "https://localhost:8080/"
        },
        "id": "md5Ans5xyYRo",
        "outputId": "0439cb51-5c69-442a-fc62-5beddb5ce772"
      },
      "source": [
        "model.summary()"
      ],
      "execution_count": null,
      "outputs": [
        {
          "output_type": "stream",
          "text": [
            "Model: \"sequential_2\"\n",
            "_________________________________________________________________\n",
            "Layer (type)                 Output Shape              Param #   \n",
            "=================================================================\n",
            "dense_6 (Dense)              (None, 32)                25120     \n",
            "_________________________________________________________________\n",
            "dense_7 (Dense)              (None, 64)                2112      \n",
            "_________________________________________________________________\n",
            "dense_8 (Dense)              (None, 10)                650       \n",
            "=================================================================\n",
            "Total params: 27,882\n",
            "Trainable params: 27,882\n",
            "Non-trainable params: 0\n",
            "_________________________________________________________________\n"
          ],
          "name": "stdout"
        }
      ]
    },
    {
      "cell_type": "code",
      "metadata": {
        "id": "ni_YuRQz0tdH"
      },
      "source": [
        "model.compile(loss='categorical_crossentropy', optimizer='adam', metrics=['accuracy'])"
      ],
      "execution_count": null,
      "outputs": []
    },
    {
      "cell_type": "code",
      "metadata": {
        "colab": {
          "base_uri": "https://localhost:8080/"
        },
        "id": "6KwhBCbRzbau",
        "outputId": "32bdbe16-123a-4136-ae94-2f0fc70de111"
      },
      "source": [
        "model.fit(train_images, train_labels, validation_split=0.2 , epochs=10, batch_size=500)\n"
      ],
      "execution_count": null,
      "outputs": [
        {
          "output_type": "stream",
          "text": [
            "Epoch 1/10\n",
            "96/96 [==============================] - 1s 7ms/step - loss: 1.4008 - accuracy: 0.5543 - val_loss: 0.5818 - val_accuracy: 0.8028\n",
            "Epoch 2/10\n",
            "96/96 [==============================] - 0s 5ms/step - loss: 0.5477 - accuracy: 0.8144 - val_loss: 0.4854 - val_accuracy: 0.8319\n",
            "Epoch 3/10\n",
            "96/96 [==============================] - 0s 5ms/step - loss: 0.4635 - accuracy: 0.8386 - val_loss: 0.4469 - val_accuracy: 0.8433\n",
            "Epoch 4/10\n",
            "96/96 [==============================] - 0s 5ms/step - loss: 0.4201 - accuracy: 0.8528 - val_loss: 0.4208 - val_accuracy: 0.8538\n",
            "Epoch 5/10\n",
            "96/96 [==============================] - 0s 5ms/step - loss: 0.4083 - accuracy: 0.8579 - val_loss: 0.4074 - val_accuracy: 0.8563\n",
            "Epoch 6/10\n",
            "96/96 [==============================] - 0s 5ms/step - loss: 0.3880 - accuracy: 0.8642 - val_loss: 0.3977 - val_accuracy: 0.8614\n",
            "Epoch 7/10\n",
            "96/96 [==============================] - 0s 5ms/step - loss: 0.3725 - accuracy: 0.8692 - val_loss: 0.3848 - val_accuracy: 0.8645\n",
            "Epoch 8/10\n",
            "96/96 [==============================] - 0s 5ms/step - loss: 0.3605 - accuracy: 0.8745 - val_loss: 0.3802 - val_accuracy: 0.8658\n",
            "Epoch 9/10\n",
            "96/96 [==============================] - 0s 5ms/step - loss: 0.3611 - accuracy: 0.8716 - val_loss: 0.3748 - val_accuracy: 0.8674\n",
            "Epoch 10/10\n",
            "96/96 [==============================] - 1s 5ms/step - loss: 0.3421 - accuracy: 0.8797 - val_loss: 0.3733 - val_accuracy: 0.8681\n"
          ],
          "name": "stdout"
        },
        {
          "output_type": "execute_result",
          "data": {
            "text/plain": [
              "<tensorflow.python.keras.callbacks.History at 0x7f7a44586d68>"
            ]
          },
          "metadata": {
            "tags": []
          },
          "execution_count": 39
        }
      ]
    },
    {
      "cell_type": "code",
      "metadata": {
        "colab": {
          "base_uri": "https://localhost:8080/"
        },
        "id": "lyl2NUs341Wt",
        "outputId": "239c94dd-5141-4d3b-9bc5-2f9525e93717"
      },
      "source": [
        "scores = model.evaluate(test_images, test_labels)\n",
        "print(scores)"
      ],
      "execution_count": null,
      "outputs": [
        {
          "output_type": "stream",
          "text": [
            "313/313 [==============================] - 1s 1ms/step - loss: 0.3974 - accuracy: 0.8619\n",
            "[0.39744624495506287, 0.8618999719619751]\n"
          ],
          "name": "stdout"
        }
      ]
    },
    {
      "cell_type": "code",
      "metadata": {
        "id": "oxFVyi5ZKJ4Z"
      },
      "source": [
        "predictions = model.predict(test_images)\n",
        "label=[]\n",
        "for pred in predictions:\n",
        "  max_val = max(pred)\n",
        "  for (i,p) in enumerate(pred):\n",
        "        if(p==max_val):\n",
        "          label.append(i)"
      ],
      "execution_count": null,
      "outputs": []
    },
    {
      "cell_type": "code",
      "metadata": {
        "id": "W1ng7xnuK6-J"
      },
      "source": [
        "i = 0\n",
        "plt.figure(figsize=(6,3))\n",
        "plt.subplot(1,2,1)\n",
        "plot_image(i, predictions[i], test_labels, test_images)\n",
        "plt.subplot(1,2,2)\n",
        "plot_value_array(i, predictions[i],  test_labels)\n",
        "plt.show()\n"
      ],
      "execution_count": null,
      "outputs": []
    }
  ]
}